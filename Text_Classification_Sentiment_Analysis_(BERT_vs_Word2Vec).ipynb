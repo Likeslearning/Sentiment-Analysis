{
  "nbformat": 4,
  "nbformat_minor": 0,
  "metadata": {
    "orig_nbformat": 2,
    "file_extension": ".py",
    "mimetype": "text/x-python",
    "name": "python",
    "npconvert_exporter": "python",
    "pygments_lexer": "ipython3",
    "version": 3,
    "colab": {
      "name": "Text Classification - Sentiment Analysis (BERT vs. Word2Vec).ipynb",
      "provenance": [],
      "collapsed_sections": [],
      "machine_shape": "hm"
    },
    "kernelspec": {
      "name": "python3",
      "display_name": "Python 3"
    }
  },
  "cells": [
    {
      "cell_type": "markdown",
      "metadata": {
        "id": "4Oq8PzYHAN8O"
      },
      "source": [
        "# Text Classification\n",
        "> ## Sentiment Analysis of the Movie Reviews\n",
        "\n"
      ]
    },
    {
      "cell_type": "markdown",
      "metadata": {
        "id": "cuWKTGn7hEa1"
      },
      "source": [
        "# Project Overview\n",
        "\n",
        ">The main aim of this work is evaluating some base classifiers in the sentiment analysis task. To struggle with this problem, two word embedding approaches (Word2Vec, BERT) and SVM classifier has been tried with some text pre-processing techniques on the movie reviews dataset.\n",
        "\n",
        "> Movie reviews dataset is from IMDB and it contains 50K reviews, half of it is positive and the other half is negative."
      ]
    },
    {
      "cell_type": "markdown",
      "metadata": {
        "id": "Qx557r76Ux5H"
      },
      "source": [
        "# Downloading & Installing the Prerequisites"
      ]
    },
    {
      "cell_type": "code",
      "metadata": {
        "id": "J54WUn8ZU4Lj",
        "outputId": "4e1ed797-7d10-43e6-ba07-9139324a7de7",
        "colab": {
          "base_uri": "https://localhost:8080/"
        }
      },
      "source": [
        "!wget https://ai.stanford.edu/~amaas/data/sentiment/aclImdb_v1.tar.gz"
      ],
      "execution_count": null,
      "outputs": [
        {
          "output_type": "stream",
          "name": "stdout",
          "text": [
            "--2022-05-23 06:38:18--  https://ai.stanford.edu/~amaas/data/sentiment/aclImdb_v1.tar.gz\n",
            "Resolving ai.stanford.edu (ai.stanford.edu)... 171.64.68.10\n",
            "Connecting to ai.stanford.edu (ai.stanford.edu)|171.64.68.10|:443... connected.\n",
            "HTTP request sent, awaiting response... 200 OK\n",
            "Length: 84125825 (80M) [application/x-gzip]\n",
            "Saving to: ‘aclImdb_v1.tar.gz’\n",
            "\n",
            "aclImdb_v1.tar.gz   100%[===================>]  80.23M  22.6MB/s    in 5.4s    \n",
            "\n",
            "2022-05-23 06:38:24 (14.9 MB/s) - ‘aclImdb_v1.tar.gz’ saved [84125825/84125825]\n",
            "\n"
          ]
        }
      ]
    },
    {
      "cell_type": "code",
      "metadata": {
        "id": "GXYoDQj4VXeQ"
      },
      "source": [
        "!tar -zxvf aclImdb_v1.tar.gz > /dev/null"
      ],
      "execution_count": null,
      "outputs": []
    },
    {
      "cell_type": "code",
      "metadata": {
        "id": "AhXuZg1jAomg",
        "colab": {
          "base_uri": "https://localhost:8080/",
          "height": 1000
        },
        "outputId": "75cf08a6-8b48-4b1c-f4ea-86b8d55fb5ce"
      },
      "source": [
        "!pip3 install bert-embedding"
      ],
      "execution_count": null,
      "outputs": [
        {
          "output_type": "stream",
          "name": "stdout",
          "text": [
            "Collecting bert-embedding\n",
            "  Downloading bert_embedding-1.0.1-py3-none-any.whl (13 kB)\n",
            "Collecting gluonnlp==0.6.0\n",
            "  Downloading gluonnlp-0.6.0.tar.gz (209 kB)\n",
            "\u001b[K     |████████████████████████████████| 209 kB 5.9 MB/s \n",
            "\u001b[?25hCollecting numpy==1.14.6\n",
            "  Downloading numpy-1.14.6-cp37-cp37m-manylinux1_x86_64.whl (13.8 MB)\n",
            "\u001b[K     |████████████████████████████████| 13.8 MB 62.1 MB/s \n",
            "\u001b[?25hCollecting typing==3.6.6\n",
            "  Downloading typing-3.6.6-py3-none-any.whl (25 kB)\n",
            "Collecting mxnet==1.4.0\n",
            "  Downloading mxnet-1.4.0-py2.py3-none-manylinux1_x86_64.whl (29.6 MB)\n",
            "\u001b[K     |████████████████████████████████| 29.6 MB 1.2 MB/s \n",
            "\u001b[?25hCollecting graphviz<0.9.0,>=0.8.1\n",
            "  Downloading graphviz-0.8.4-py2.py3-none-any.whl (16 kB)\n",
            "Requirement already satisfied: requests>=2.20.0 in /usr/local/lib/python3.7/dist-packages (from mxnet==1.4.0->bert-embedding) (2.23.0)\n",
            "Requirement already satisfied: certifi>=2017.4.17 in /usr/local/lib/python3.7/dist-packages (from requests>=2.20.0->mxnet==1.4.0->bert-embedding) (2021.10.8)\n",
            "Requirement already satisfied: idna<3,>=2.5 in /usr/local/lib/python3.7/dist-packages (from requests>=2.20.0->mxnet==1.4.0->bert-embedding) (2.10)\n",
            "Requirement already satisfied: urllib3!=1.25.0,!=1.25.1,<1.26,>=1.21.1 in /usr/local/lib/python3.7/dist-packages (from requests>=2.20.0->mxnet==1.4.0->bert-embedding) (1.24.3)\n",
            "Requirement already satisfied: chardet<4,>=3.0.2 in /usr/local/lib/python3.7/dist-packages (from requests>=2.20.0->mxnet==1.4.0->bert-embedding) (3.0.4)\n",
            "Building wheels for collected packages: gluonnlp\n",
            "  Building wheel for gluonnlp (setup.py) ... \u001b[?25l\u001b[?25hdone\n",
            "  Created wheel for gluonnlp: filename=gluonnlp-0.6.0-py3-none-any.whl size=259930 sha256=cd3840efd9493b61e9bf7f2bd2ada2b7ca6626ac31f842983d2048ddf33e7b32\n",
            "  Stored in directory: /root/.cache/pip/wheels/a6/41/8f/45bd1c58055d87aee5a71b6756a427ea8d92e506b3a9d17370\n",
            "Successfully built gluonnlp\n",
            "Installing collected packages: numpy, graphviz, typing, mxnet, gluonnlp, bert-embedding\n",
            "  Attempting uninstall: numpy\n",
            "    Found existing installation: numpy 1.21.6\n",
            "    Uninstalling numpy-1.21.6:\n",
            "      Successfully uninstalled numpy-1.21.6\n",
            "  Attempting uninstall: graphviz\n",
            "    Found existing installation: graphviz 0.10.1\n",
            "    Uninstalling graphviz-0.10.1:\n",
            "      Successfully uninstalled graphviz-0.10.1\n",
            "\u001b[31mERROR: pip's dependency resolver does not currently take into account all the packages that are installed. This behaviour is the source of the following dependency conflicts.\n",
            "tensorflow 2.8.0+zzzcolab20220506162203 requires tf-estimator-nightly==2.8.0.dev2021122109, which is not installed.\n",
            "yellowbrick 1.4 requires numpy>=1.16.0, but you have numpy 1.14.6 which is incompatible.\n",
            "xarray 0.20.2 requires numpy>=1.18, but you have numpy 1.14.6 which is incompatible.\n",
            "xarray-einstats 0.2.2 requires numpy>=1.21, but you have numpy 1.14.6 which is incompatible.\n",
            "tifffile 2021.11.2 requires numpy>=1.15.1, but you have numpy 1.14.6 which is incompatible.\n",
            "tensorflow 2.8.0+zzzcolab20220506162203 requires numpy>=1.20, but you have numpy 1.14.6 which is incompatible.\n",
            "tables 3.7.0 requires numpy>=1.19.0, but you have numpy 1.14.6 which is incompatible.\n",
            "spacy 2.2.4 requires numpy>=1.15.0, but you have numpy 1.14.6 which is incompatible.\n",
            "seaborn 0.11.2 requires numpy>=1.15, but you have numpy 1.14.6 which is incompatible.\n",
            "scikit-image 0.18.3 requires numpy>=1.16.5, but you have numpy 1.14.6 which is incompatible.\n",
            "pywavelets 1.3.0 requires numpy>=1.17.3, but you have numpy 1.14.6 which is incompatible.\n",
            "pymc3 3.11.4 requires numpy>=1.15.0, but you have numpy 1.14.6 which is incompatible.\n",
            "pyerfa 2.0.0.1 requires numpy>=1.17, but you have numpy 1.14.6 which is incompatible.\n",
            "pyarrow 6.0.1 requires numpy>=1.16.6, but you have numpy 1.14.6 which is incompatible.\n",
            "plotnine 0.6.0 requires numpy>=1.16.0, but you have numpy 1.14.6 which is incompatible.\n",
            "pandas 1.3.5 requires numpy>=1.17.3; platform_machine != \"aarch64\" and platform_machine != \"arm64\" and python_version < \"3.10\", but you have numpy 1.14.6 which is incompatible.\n",
            "numba 0.51.2 requires numpy>=1.15, but you have numpy 1.14.6 which is incompatible.\n",
            "librosa 0.8.1 requires numpy>=1.15.0, but you have numpy 1.14.6 which is incompatible.\n",
            "kapre 0.3.7 requires numpy>=1.18.5, but you have numpy 1.14.6 which is incompatible.\n",
            "jaxlib 0.3.7+cuda11.cudnn805 requires numpy>=1.19, but you have numpy 1.14.6 which is incompatible.\n",
            "jax 0.3.8 requires numpy>=1.19, but you have numpy 1.14.6 which is incompatible.\n",
            "imgaug 0.2.9 requires numpy>=1.15.0, but you have numpy 1.14.6 which is incompatible.\n",
            "fbprophet 0.7.1 requires numpy>=1.15.4, but you have numpy 1.14.6 which is incompatible.\n",
            "fastai 1.0.61 requires numpy>=1.15, but you have numpy 1.14.6 which is incompatible.\n",
            "datascience 0.10.6 requires folium==0.2.1, but you have folium 0.8.3 which is incompatible.\n",
            "cvxpy 1.0.31 requires numpy>=1.15, but you have numpy 1.14.6 which is incompatible.\n",
            "blis 0.4.1 requires numpy>=1.15.0, but you have numpy 1.14.6 which is incompatible.\n",
            "astropy 4.3.1 requires numpy>=1.17, but you have numpy 1.14.6 which is incompatible.\n",
            "albumentations 0.1.12 requires imgaug<0.2.7,>=0.2.5, but you have imgaug 0.2.9 which is incompatible.\u001b[0m\n",
            "Successfully installed bert-embedding-1.0.1 gluonnlp-0.6.0 graphviz-0.8.4 mxnet-1.4.0 numpy-1.14.6 typing-3.6.6\n"
          ]
        },
        {
          "output_type": "display_data",
          "data": {
            "application/vnd.colab-display-data+json": {
              "pip_warning": {
                "packages": [
                  "numpy",
                  "typing"
                ]
              }
            }
          },
          "metadata": {}
        }
      ]
    },
    {
      "cell_type": "code",
      "metadata": {
        "id": "qfdXLKSbAqgD",
        "colab": {
          "base_uri": "https://localhost:8080/",
          "height": 539
        },
        "outputId": "5351b959-ba00-407f-f6c2-7f8da70c295f"
      },
      "source": [
        "!pip3 install mxnet-cu100"
      ],
      "execution_count": null,
      "outputs": [
        {
          "output_type": "stream",
          "name": "stdout",
          "text": [
            "Collecting mxnet-cu100\n",
            "  Downloading mxnet_cu100-1.9.0-py3-none-manylinux2014_x86_64.whl (354.0 MB)\n",
            "\u001b[K     |████████████████████████████████| 354.0 MB 3.7 kB/s \n",
            "\u001b[?25hRequirement already satisfied: graphviz<0.9.0,>=0.8.1 in /usr/local/lib/python3.7/dist-packages (from mxnet-cu100) (0.8.4)\n",
            "Collecting numpy<2.0.0,>1.16.0\n",
            "  Downloading numpy-1.21.6-cp37-cp37m-manylinux_2_12_x86_64.manylinux2010_x86_64.whl (15.7 MB)\n",
            "\u001b[K     |████████████████████████████████| 15.7 MB 45.2 MB/s \n",
            "\u001b[?25hRequirement already satisfied: requests<3,>=2.20.0 in /usr/local/lib/python3.7/dist-packages (from mxnet-cu100) (2.23.0)\n",
            "Requirement already satisfied: certifi>=2017.4.17 in /usr/local/lib/python3.7/dist-packages (from requests<3,>=2.20.0->mxnet-cu100) (2021.10.8)\n",
            "Requirement already satisfied: urllib3!=1.25.0,!=1.25.1,<1.26,>=1.21.1 in /usr/local/lib/python3.7/dist-packages (from requests<3,>=2.20.0->mxnet-cu100) (1.24.3)\n",
            "Requirement already satisfied: idna<3,>=2.5 in /usr/local/lib/python3.7/dist-packages (from requests<3,>=2.20.0->mxnet-cu100) (2.10)\n",
            "Requirement already satisfied: chardet<4,>=3.0.2 in /usr/local/lib/python3.7/dist-packages (from requests<3,>=2.20.0->mxnet-cu100) (3.0.4)\n",
            "Installing collected packages: numpy, mxnet-cu100\n",
            "  Attempting uninstall: numpy\n",
            "    Found existing installation: numpy 1.14.6\n",
            "    Uninstalling numpy-1.14.6:\n",
            "      Successfully uninstalled numpy-1.14.6\n",
            "\u001b[31mERROR: pip's dependency resolver does not currently take into account all the packages that are installed. This behaviour is the source of the following dependency conflicts.\n",
            "tensorflow 2.8.0+zzzcolab20220506162203 requires tf-estimator-nightly==2.8.0.dev2021122109, which is not installed.\n",
            "mxnet 1.4.0 requires numpy<1.15.0,>=1.8.2, but you have numpy 1.21.6 which is incompatible.\n",
            "datascience 0.10.6 requires folium==0.2.1, but you have folium 0.8.3 which is incompatible.\n",
            "bert-embedding 1.0.1 requires numpy==1.14.6, but you have numpy 1.21.6 which is incompatible.\n",
            "albumentations 0.1.12 requires imgaug<0.2.7,>=0.2.5, but you have imgaug 0.2.9 which is incompatible.\u001b[0m\n",
            "Successfully installed mxnet-cu100-1.9.0 numpy-1.21.6\n"
          ]
        },
        {
          "output_type": "display_data",
          "data": {
            "application/vnd.colab-display-data+json": {
              "pip_warning": {
                "packages": [
                  "numpy"
                ]
              }
            }
          },
          "metadata": {}
        }
      ]
    },
    {
      "cell_type": "code",
      "metadata": {
        "id": "E-xQcgXRig1K",
        "colab": {
          "base_uri": "https://localhost:8080/"
        },
        "outputId": "e38bcbb9-d3a8-4c0f-d174-f45a97b0cf70"
      },
      "source": [
        "!pip3 install sentence-transformers"
      ],
      "execution_count": null,
      "outputs": [
        {
          "output_type": "stream",
          "name": "stdout",
          "text": [
            "Collecting sentence-transformers\n",
            "  Downloading sentence-transformers-2.2.0.tar.gz (79 kB)\n",
            "\u001b[K     |████████████████████████████████| 79 kB 3.7 MB/s \n",
            "\u001b[?25hCollecting transformers<5.0.0,>=4.6.0\n",
            "  Downloading transformers-4.19.2-py3-none-any.whl (4.2 MB)\n",
            "\u001b[K     |████████████████████████████████| 4.2 MB 47.0 MB/s \n",
            "\u001b[?25hRequirement already satisfied: tqdm in /usr/local/lib/python3.7/dist-packages (from sentence-transformers) (4.64.0)\n",
            "Requirement already satisfied: torch>=1.6.0 in /usr/local/lib/python3.7/dist-packages (from sentence-transformers) (1.11.0+cu113)\n",
            "Requirement already satisfied: torchvision in /usr/local/lib/python3.7/dist-packages (from sentence-transformers) (0.12.0+cu113)\n",
            "Requirement already satisfied: numpy in /usr/local/lib/python3.7/dist-packages (from sentence-transformers) (1.21.6)\n",
            "Requirement already satisfied: scikit-learn in /usr/local/lib/python3.7/dist-packages (from sentence-transformers) (1.0.2)\n",
            "Requirement already satisfied: scipy in /usr/local/lib/python3.7/dist-packages (from sentence-transformers) (1.4.1)\n",
            "Requirement already satisfied: nltk in /usr/local/lib/python3.7/dist-packages (from sentence-transformers) (3.2.5)\n",
            "Collecting sentencepiece\n",
            "  Downloading sentencepiece-0.1.96-cp37-cp37m-manylinux_2_17_x86_64.manylinux2014_x86_64.whl (1.2 MB)\n",
            "\u001b[K     |████████████████████████████████| 1.2 MB 62.7 MB/s \n",
            "\u001b[?25hCollecting huggingface-hub\n",
            "  Downloading huggingface_hub-0.6.0-py3-none-any.whl (84 kB)\n",
            "\u001b[K     |████████████████████████████████| 84 kB 3.1 MB/s \n",
            "\u001b[?25hRequirement already satisfied: typing-extensions in /usr/local/lib/python3.7/dist-packages (from torch>=1.6.0->sentence-transformers) (4.2.0)\n",
            "Requirement already satisfied: filelock in /usr/local/lib/python3.7/dist-packages (from transformers<5.0.0,>=4.6.0->sentence-transformers) (3.7.0)\n",
            "Requirement already satisfied: regex!=2019.12.17 in /usr/local/lib/python3.7/dist-packages (from transformers<5.0.0,>=4.6.0->sentence-transformers) (2019.12.20)\n",
            "Requirement already satisfied: packaging>=20.0 in /usr/local/lib/python3.7/dist-packages (from transformers<5.0.0,>=4.6.0->sentence-transformers) (21.3)\n",
            "Collecting tokenizers!=0.11.3,<0.13,>=0.11.1\n",
            "  Downloading tokenizers-0.12.1-cp37-cp37m-manylinux_2_12_x86_64.manylinux2010_x86_64.whl (6.6 MB)\n",
            "\u001b[K     |████████████████████████████████| 6.6 MB 65.1 MB/s \n",
            "\u001b[?25hRequirement already satisfied: importlib-metadata in /usr/local/lib/python3.7/dist-packages (from transformers<5.0.0,>=4.6.0->sentence-transformers) (4.11.3)\n",
            "Requirement already satisfied: requests in /usr/local/lib/python3.7/dist-packages (from transformers<5.0.0,>=4.6.0->sentence-transformers) (2.23.0)\n",
            "Collecting pyyaml>=5.1\n",
            "  Downloading PyYAML-6.0-cp37-cp37m-manylinux_2_5_x86_64.manylinux1_x86_64.manylinux_2_12_x86_64.manylinux2010_x86_64.whl (596 kB)\n",
            "\u001b[K     |████████████████████████████████| 596 kB 49.5 MB/s \n",
            "\u001b[?25hRequirement already satisfied: pyparsing!=3.0.5,>=2.0.2 in /usr/local/lib/python3.7/dist-packages (from packaging>=20.0->transformers<5.0.0,>=4.6.0->sentence-transformers) (3.0.9)\n",
            "Requirement already satisfied: zipp>=0.5 in /usr/local/lib/python3.7/dist-packages (from importlib-metadata->transformers<5.0.0,>=4.6.0->sentence-transformers) (3.8.0)\n",
            "Requirement already satisfied: six in /usr/local/lib/python3.7/dist-packages (from nltk->sentence-transformers) (1.15.0)\n",
            "Requirement already satisfied: certifi>=2017.4.17 in /usr/local/lib/python3.7/dist-packages (from requests->transformers<5.0.0,>=4.6.0->sentence-transformers) (2021.10.8)\n",
            "Requirement already satisfied: chardet<4,>=3.0.2 in /usr/local/lib/python3.7/dist-packages (from requests->transformers<5.0.0,>=4.6.0->sentence-transformers) (3.0.4)\n",
            "Requirement already satisfied: idna<3,>=2.5 in /usr/local/lib/python3.7/dist-packages (from requests->transformers<5.0.0,>=4.6.0->sentence-transformers) (2.10)\n",
            "Requirement already satisfied: urllib3!=1.25.0,!=1.25.1,<1.26,>=1.21.1 in /usr/local/lib/python3.7/dist-packages (from requests->transformers<5.0.0,>=4.6.0->sentence-transformers) (1.24.3)\n",
            "Requirement already satisfied: threadpoolctl>=2.0.0 in /usr/local/lib/python3.7/dist-packages (from scikit-learn->sentence-transformers) (3.1.0)\n",
            "Requirement already satisfied: joblib>=0.11 in /usr/local/lib/python3.7/dist-packages (from scikit-learn->sentence-transformers) (1.1.0)\n",
            "Requirement already satisfied: pillow!=8.3.*,>=5.3.0 in /usr/local/lib/python3.7/dist-packages (from torchvision->sentence-transformers) (7.1.2)\n",
            "Building wheels for collected packages: sentence-transformers\n",
            "  Building wheel for sentence-transformers (setup.py) ... \u001b[?25l\u001b[?25hdone\n",
            "  Created wheel for sentence-transformers: filename=sentence_transformers-2.2.0-py3-none-any.whl size=120747 sha256=8636fa0fb9fcd0b384423fe15860614bc01c31f4d80c46841dd9f1639ed1ce0c\n",
            "  Stored in directory: /root/.cache/pip/wheels/83/c0/df/b6873ab7aac3f2465aa9144b6b4c41c4391cfecc027c8b07e7\n",
            "Successfully built sentence-transformers\n",
            "Installing collected packages: pyyaml, tokenizers, huggingface-hub, transformers, sentencepiece, sentence-transformers\n",
            "  Attempting uninstall: pyyaml\n",
            "    Found existing installation: PyYAML 3.13\n",
            "    Uninstalling PyYAML-3.13:\n",
            "      Successfully uninstalled PyYAML-3.13\n",
            "Successfully installed huggingface-hub-0.6.0 pyyaml-6.0 sentence-transformers-2.2.0 sentencepiece-0.1.96 tokenizers-0.12.1 transformers-4.19.2\n"
          ]
        }
      ]
    },
    {
      "cell_type": "code",
      "metadata": {
        "id": "k485f8bacv2d",
        "outputId": "713d35c4-f72c-4c09-f9d8-11fb4e5a8bc6",
        "colab": {
          "base_uri": "https://localhost:8080/"
        }
      },
      "source": [
        "!ls"
      ],
      "execution_count": null,
      "outputs": [
        {
          "output_type": "stream",
          "name": "stdout",
          "text": [
            "aclImdb  aclImdb_v1.tar.gz  sample_data\n"
          ]
        }
      ]
    },
    {
      "cell_type": "markdown",
      "metadata": {
        "id": "tBeYCgcDUQUd"
      },
      "source": [
        "# Required Packages"
      ]
    },
    {
      "cell_type": "code",
      "metadata": {
        "id": "7FTdlFDxUQUh"
      },
      "source": [
        "import os\n",
        "import random\n",
        "import numpy as np\n",
        "import pandas as pd\n",
        "import nltk\n",
        "from nltk.tokenize import sent_tokenize, word_tokenize \n",
        "from nltk.corpus import stopwords\n",
        "import re\n",
        "from sklearn.svm import SVC\n",
        "from sklearn.model_selection import GridSearchCV\n",
        "from sklearn.metrics import accuracy_score\n",
        "from sklearn.metrics import classification_report, confusion_matrix\n",
        "from sklearn.metrics import roc_curve, auc\n",
        "from matplotlib import pyplot as plt\n",
        "import itertools\n",
        "import mxnet as mx\n",
        "from bert_embedding import BertEmbedding\n",
        "import gensim \n",
        "from gensim.models import Word2Vec "
      ],
      "execution_count": null,
      "outputs": []
    },
    {
      "cell_type": "markdown",
      "metadata": {
        "id": "1q3l8llsUQUr"
      },
      "source": [
        "# Loading the Dataset\n",
        "\n",
        "\n",
        "> Our dataset has been divided equally into the training and testing sets. Furthermore, each set contains 12.5K positive and 12.5K negative reviews. The training and testing data were inserted into the Pandas dataframes.\n",
        "\n"
      ]
    },
    {
      "cell_type": "code",
      "metadata": {
        "id": "KUXxV-mGUQUt"
      },
      "source": [
        "def loadDataset(data_dir):\n",
        "    data = {}\n",
        "    for partition in [\"train\", \"test\"]:\n",
        "        data[partition] = []\n",
        "        for sentiment in [\"neg\", \"pos\"]:\n",
        "            lable = 1 if sentiment == \"pos\" else 0\n",
        "\n",
        "            path = os.path.join(data_dir, partition, sentiment)\n",
        "            files = os.listdir(path)\n",
        "            for f_name in files:\n",
        "                with open(os.path.join(path, f_name), \"r\") as f:\n",
        "                    review = f.read()\n",
        "                    data[partition].append([review, lable])\n",
        "\n",
        "    random.seed(4) # to comparision purpose\n",
        "    random.shuffle(data[\"train\"])\n",
        "    random.shuffle(data[\"test\"])\n",
        "    \n",
        "    data[\"train\"] = pd.DataFrame(data[\"train\"],\n",
        "                                 columns=['text', 'sentiment'])\n",
        "    data[\"test\"] = pd.DataFrame(data[\"test\"],\n",
        "                                columns=['text', 'sentiment'])\n",
        "\n",
        "    return data[\"train\"], data[\"test\"]"
      ],
      "execution_count": null,
      "outputs": []
    },
    {
      "cell_type": "code",
      "metadata": {
        "id": "H4qI30GJUQU0"
      },
      "source": [
        "data_dir = \"aclImdb/\"\n",
        "train_data, test_data = loadDataset(data_dir)"
      ],
      "execution_count": null,
      "outputs": []
    },
    {
      "cell_type": "markdown",
      "metadata": {
        "id": "sutlNe12YG2x"
      },
      "source": [
        "The first 5 rows of the training data as follows:"
      ]
    },
    {
      "cell_type": "code",
      "metadata": {
        "id": "7Gi1u5koVpCM",
        "outputId": "30af8694-c9bd-4ffe-ddd9-b0722418a12b",
        "colab": {
          "base_uri": "https://localhost:8080/",
          "height": 206
        }
      },
      "source": [
        "train_data.head()"
      ],
      "execution_count": null,
      "outputs": [
        {
          "output_type": "execute_result",
          "data": {
            "text/plain": [
              "                                                text  sentiment\n",
              "0  This movie only got a 1 because you can't give...          0\n",
              "1  Only the most ardent DORIS DAY fan could find ...          0\n",
              "2  I really like this movie because in Australia,...          1\n",
              "3  I have never seen a Barbara Steele movie that ...          1\n",
              "4  After witnessing his wife (Linda Hoffman) enga...          1"
            ],
            "text/html": [
              "\n",
              "  <div id=\"df-8abbbd2e-f20b-461e-8148-fc0cc7bb4770\">\n",
              "    <div class=\"colab-df-container\">\n",
              "      <div>\n",
              "<style scoped>\n",
              "    .dataframe tbody tr th:only-of-type {\n",
              "        vertical-align: middle;\n",
              "    }\n",
              "\n",
              "    .dataframe tbody tr th {\n",
              "        vertical-align: top;\n",
              "    }\n",
              "\n",
              "    .dataframe thead th {\n",
              "        text-align: right;\n",
              "    }\n",
              "</style>\n",
              "<table border=\"1\" class=\"dataframe\">\n",
              "  <thead>\n",
              "    <tr style=\"text-align: right;\">\n",
              "      <th></th>\n",
              "      <th>text</th>\n",
              "      <th>sentiment</th>\n",
              "    </tr>\n",
              "  </thead>\n",
              "  <tbody>\n",
              "    <tr>\n",
              "      <th>0</th>\n",
              "      <td>This movie only got a 1 because you can't give...</td>\n",
              "      <td>0</td>\n",
              "    </tr>\n",
              "    <tr>\n",
              "      <th>1</th>\n",
              "      <td>Only the most ardent DORIS DAY fan could find ...</td>\n",
              "      <td>0</td>\n",
              "    </tr>\n",
              "    <tr>\n",
              "      <th>2</th>\n",
              "      <td>I really like this movie because in Australia,...</td>\n",
              "      <td>1</td>\n",
              "    </tr>\n",
              "    <tr>\n",
              "      <th>3</th>\n",
              "      <td>I have never seen a Barbara Steele movie that ...</td>\n",
              "      <td>1</td>\n",
              "    </tr>\n",
              "    <tr>\n",
              "      <th>4</th>\n",
              "      <td>After witnessing his wife (Linda Hoffman) enga...</td>\n",
              "      <td>1</td>\n",
              "    </tr>\n",
              "  </tbody>\n",
              "</table>\n",
              "</div>\n",
              "      <button class=\"colab-df-convert\" onclick=\"convertToInteractive('df-8abbbd2e-f20b-461e-8148-fc0cc7bb4770')\"\n",
              "              title=\"Convert this dataframe to an interactive table.\"\n",
              "              style=\"display:none;\">\n",
              "        \n",
              "  <svg xmlns=\"http://www.w3.org/2000/svg\" height=\"24px\"viewBox=\"0 0 24 24\"\n",
              "       width=\"24px\">\n",
              "    <path d=\"M0 0h24v24H0V0z\" fill=\"none\"/>\n",
              "    <path d=\"M18.56 5.44l.94 2.06.94-2.06 2.06-.94-2.06-.94-.94-2.06-.94 2.06-2.06.94zm-11 1L8.5 8.5l.94-2.06 2.06-.94-2.06-.94L8.5 2.5l-.94 2.06-2.06.94zm10 10l.94 2.06.94-2.06 2.06-.94-2.06-.94-.94-2.06-.94 2.06-2.06.94z\"/><path d=\"M17.41 7.96l-1.37-1.37c-.4-.4-.92-.59-1.43-.59-.52 0-1.04.2-1.43.59L10.3 9.45l-7.72 7.72c-.78.78-.78 2.05 0 2.83L4 21.41c.39.39.9.59 1.41.59.51 0 1.02-.2 1.41-.59l7.78-7.78 2.81-2.81c.8-.78.8-2.07 0-2.86zM5.41 20L4 18.59l7.72-7.72 1.47 1.35L5.41 20z\"/>\n",
              "  </svg>\n",
              "      </button>\n",
              "      \n",
              "  <style>\n",
              "    .colab-df-container {\n",
              "      display:flex;\n",
              "      flex-wrap:wrap;\n",
              "      gap: 12px;\n",
              "    }\n",
              "\n",
              "    .colab-df-convert {\n",
              "      background-color: #E8F0FE;\n",
              "      border: none;\n",
              "      border-radius: 50%;\n",
              "      cursor: pointer;\n",
              "      display: none;\n",
              "      fill: #1967D2;\n",
              "      height: 32px;\n",
              "      padding: 0 0 0 0;\n",
              "      width: 32px;\n",
              "    }\n",
              "\n",
              "    .colab-df-convert:hover {\n",
              "      background-color: #E2EBFA;\n",
              "      box-shadow: 0px 1px 2px rgba(60, 64, 67, 0.3), 0px 1px 3px 1px rgba(60, 64, 67, 0.15);\n",
              "      fill: #174EA6;\n",
              "    }\n",
              "\n",
              "    [theme=dark] .colab-df-convert {\n",
              "      background-color: #3B4455;\n",
              "      fill: #D2E3FC;\n",
              "    }\n",
              "\n",
              "    [theme=dark] .colab-df-convert:hover {\n",
              "      background-color: #434B5C;\n",
              "      box-shadow: 0px 1px 3px 1px rgba(0, 0, 0, 0.15);\n",
              "      filter: drop-shadow(0px 1px 2px rgba(0, 0, 0, 0.3));\n",
              "      fill: #FFFFFF;\n",
              "    }\n",
              "  </style>\n",
              "\n",
              "      <script>\n",
              "        const buttonEl =\n",
              "          document.querySelector('#df-8abbbd2e-f20b-461e-8148-fc0cc7bb4770 button.colab-df-convert');\n",
              "        buttonEl.style.display =\n",
              "          google.colab.kernel.accessAllowed ? 'block' : 'none';\n",
              "\n",
              "        async function convertToInteractive(key) {\n",
              "          const element = document.querySelector('#df-8abbbd2e-f20b-461e-8148-fc0cc7bb4770');\n",
              "          const dataTable =\n",
              "            await google.colab.kernel.invokeFunction('convertToInteractive',\n",
              "                                                     [key], {});\n",
              "          if (!dataTable) return;\n",
              "\n",
              "          const docLinkHtml = 'Like what you see? Visit the ' +\n",
              "            '<a target=\"_blank\" href=https://colab.research.google.com/notebooks/data_table.ipynb>data table notebook</a>'\n",
              "            + ' to learn more about interactive tables.';\n",
              "          element.innerHTML = '';\n",
              "          dataTable['output_type'] = 'display_data';\n",
              "          await google.colab.output.renderOutput(dataTable, element);\n",
              "          const docLink = document.createElement('div');\n",
              "          docLink.innerHTML = docLinkHtml;\n",
              "          element.appendChild(docLink);\n",
              "        }\n",
              "      </script>\n",
              "    </div>\n",
              "  </div>\n",
              "  "
            ]
          },
          "metadata": {},
          "execution_count": 10
        }
      ]
    },
    {
      "cell_type": "markdown",
      "metadata": {
        "id": "_qF7qiXVUQU6"
      },
      "source": [
        "# Cleaning Dataset\n",
        "> Since this dataset scraped from the web, some HTML codes got mixed up with it. So, cleaning up those by removing HTML tags is needed. Removing the numbers, punctuations, and stop words, replacing negative contraction verb with whose complete forms like won't, splitting compound nouns that are made with hyphen like state-of-the-art (except BERT), and normalizing texts by lowering them would be beneficial.\n",
        "\n",
        "> Due to BERT embedding was trained on Wikipedia data, for this case, we allow numbers and some of the punctuations like [,  /  ()  :  ;  '] and compound nouns that are made with hyphen which may cause a more reliable embedding to remain in the text. Furthermore, we save \"!\", \"?\", and \".\" to detect the end of the sentence for a later purpose (generate BERT according to each sentence).\n",
        "\n",
        "> Lastly, white spaces were replaced with only one space.\n"
      ]
    },
    {
      "cell_type": "code",
      "metadata": {
        "id": "gXdzWU9bUQU8"
      },
      "source": [
        "def cleanText(text):\n",
        "    \n",
        "    text = re.sub(r'<.*?>', ' ', text)\n",
        "    text = re.sub(r\"won't\", \"will not\", text)\n",
        "    text = re.sub(r\"can't\", \"can not\", text)\n",
        "    text = re.sub(r\"n't\", \" not\", text)\n",
        "    text = re.sub(r\"'ve\", \" have\", text)\n",
        "    text = re.sub(r\"'ll\", \" will\", text)\n",
        "    text = re.sub(r\"'re\", \" are\", text)\n",
        "\n",
        "    if embedding is not 'BERT':\n",
        "        text = re.sub(r\"[0-9]+\", ' ', text)\n",
        "        text = re.sub(r\"-\", ' ', text)\n",
        "    \n",
        "    \n",
        "    text = text.strip().lower()\n",
        "    \n",
        "    if embedding is 'WORD2VEC_NO_STOP':\n",
        "        # Remove Stop words\n",
        "        default_stop_words = set(stopwords.words('english'))\n",
        "        default_stop_words.difference_update({'no', 'not', 'nor', 'too', 'any'})\n",
        "        stop_words = default_stop_words.union({\"'m\", \"n't\", \"'d\", \"'re\", \"'s\",\n",
        "                                               'would','must',\"'ve\",\"'ll\",'may'})\n",
        "    \n",
        "        word_list = word_tokenize(text)\n",
        "        filtered_list = [w for w in word_list if not w in stop_words]\n",
        "        text = ' '.join(filtered_list)\n",
        "    \n",
        "    if embedding is not 'BERT':\n",
        "        # Remove other contractions\n",
        "        text = re.sub(r\"'\", ' ', text)\n",
        "    \n",
        "    # Replace punctuations with space\n",
        "    if embedding is 'BERT': # save ! ? . for end of the sentence detection [,/():;']\n",
        "        filters='\"#$%&*+<=>@[\\\\]^_`{|}~\\t\\n'\n",
        "        text = re.sub(r'\\!+', '!', text)\n",
        "        text = re.sub(r'\\?+', '?', text)\n",
        "    else:\n",
        "        filters='!\"\\'#$%&()*+,-./:;<=>?@[\\\\]^_`{|}~\\t\\n'\n",
        "    translate_dict = dict((i, \" \") for i in filters)\n",
        "    translate_map = str.maketrans(translate_dict)\n",
        "    text = text.translate(translate_map)\n",
        "    \n",
        "    if embedding is 'BERT':\n",
        "        text = re.sub(r'\\( *\\)', ' ', text)\n",
        "\n",
        "    if embedding is not 'BERT':\n",
        "        text = ' '.join([w for w in text.split() if len(w)>1])\n",
        "\n",
        "    # Replace multiple space with one space\n",
        "    text = re.sub(' +', ' ', text)\n",
        "    \n",
        "    text = ''.join(text)\n",
        "\n",
        "    return text"
      ],
      "execution_count": null,
      "outputs": []
    },
    {
      "cell_type": "markdown",
      "metadata": {
        "id": "cx13j6LSxMh6"
      },
      "source": [
        "### Adding cleaned reviews as a column in our data frame.\n",
        "\n",
        "> As mentioned before, we distinguish between the embedding approaches in data cleaning. So we added 'clean_text' and 'clean_text_bert' columns in our data frame that each column is a cleaned data and prepared for a specific word embedding."
      ]
    },
    {
      "cell_type": "code",
      "metadata": {
        "id": "p0A9xc93p05e"
      },
      "source": [
        "embedding = 'WORD2VEC_WITH_STOP'\n",
        "# for Word2Vec with stop words\n",
        "train_data['clean_text'] = train_data['text'].apply(cleanText)\n",
        "test_data['clean_text'] = test_data['text'].apply(cleanText)"
      ],
      "execution_count": null,
      "outputs": []
    },
    {
      "cell_type": "code",
      "metadata": {
        "id": "iAYa6_jIwnWZ"
      },
      "source": [
        "embedding = 'BERT'\n",
        "# for BERT(s)\n",
        "train_data['clean_text_bert'] = train_data['text'].apply(cleanText)\n",
        "test_data['clean_text_bert'] = test_data['text'].apply(cleanText)"
      ],
      "execution_count": null,
      "outputs": []
    },
    {
      "cell_type": "markdown",
      "metadata": {
        "id": "4vNIHFjt3qTg"
      },
      "source": [
        "### A visual comparison of different cleaned data"
      ]
    },
    {
      "cell_type": "code",
      "metadata": {
        "id": "uDCYc1vjub2T",
        "outputId": "2d3e4105-1bf7-4af2-c343-1585a2106c47",
        "colab": {
          "base_uri": "https://localhost:8080/"
        }
      },
      "source": [
        "# Debugging\n",
        "print(\"A review example of dataset before cleaning:\", end=\"\\n\\n\")\n",
        "print(train_data.iloc[0]['text'], end='\\n\\n')\n",
        "\n",
        "print(\"clean_text:\")\n",
        "print(train_data.iloc[0]['clean_text'], end=\"\\n\\n\")\n",
        "\n",
        "print(\"clean_text_bert:\")\n",
        "print(train_data.iloc[0]['clean_text_bert'], end=\"\\n\\n\")"
      ],
      "execution_count": null,
      "outputs": [
        {
          "output_type": "stream",
          "name": "stdout",
          "text": [
            "A review example of dataset before cleaning:\n",
            "\n",
            "This movie only got a 1 because you can't give a zero! if you have a weak tummy AT ALL don't watch. animal rights people you don't want to watch either. it makes people vegetarians i swear i witnessed it happen! the only cool parts are the case and the fact that its a true story. its really really super creepy that this guy worked at ADT while he killed people! still feel safe when you punch in that little code? i don't! He had access to every code in Kansas!!!!!! I hated the movie it was not scary it was mentally scaring! Do your self a favor and don;t rent/buy this movie i think it cost about $20 to make that INCLUDES their OVER paid actors!!!!\n",
            "\n",
            "clean_text:\n",
            "this movie only got because you can not give zero if you have weak tummy at all do not watch animal rights people you do not want to watch either it makes people vegetarians swear witnessed it happen the only cool parts are the case and the fact that its true story its really really super creepy that this guy worked at adt while he killed people still feel safe when you punch in that little code do not he had access to every code in kansas hated the movie it was not scary it was mentally scaring do your self favor and don rent buy this movie think it cost about to make that includes their over paid actors\n",
            "\n",
            "clean_text_bert:\n",
            "this movie only got a 1 because you can not give a zero! if you have a weak tummy at all do not watch. animal rights people you do not want to watch either. it makes people vegetarians i swear i witnessed it happen! the only cool parts are the case and the fact that its a true story. its really really super creepy that this guy worked at adt while he killed people! still feel safe when you punch in that little code? i do not! he had access to every code in kansas! i hated the movie it was not scary it was mentally scaring! do your self a favor and don;t rent/buy this movie i think it cost about 20 to make that includes their over paid actors!\n",
            "\n"
          ]
        }
      ]
    },
    {
      "cell_type": "markdown",
      "metadata": {
        "id": "taLGylY9UQVC"
      },
      "source": [
        "# Vectorization\n",
        "\n",
        "> To introduce our data to the classifier, each review is converted to some numeric features -> This is vectorization.\n",
        "\n",
        "We have considered both Word2Vec and BERT embedding approaches to our experiments.\n",
        "\n",
        "\n",
        "<b>Word2Vec</b>\n",
        ">  Word2Vec consists of two models which are shallow two layer neural networks having one input layer, one hidden layer and one output layer. Word2Vec utilizes two architectures: Continuous Bag of Words and Skip Gram.\n",
        "The basic idea of Word2Vec is words that occur in similar context tend to be closer to each other in vector space. Gensim library is used to generate word vectors in Python.\n",
        "\n",
        "<b>Bidirectional Encoder Representations  from Transformers (BERT):</b>\n",
        "> BERT, published by Google, is pre-trained language model word representation which transforms each word into a vector with a fixed size of 768.</br>\n",
        "\n",
        "> In this project, we used BERT embedding twice and report their results independently. once, we tokenized each training data into words, then compute BERT embedding of each word, and finally, mean all the BERT vectors of the words as a review representation.\n",
        "In a second way, we tokenized each training data into sentences and computed the mean of BERT embedding of the sentences to present each training data.\n",
        "\n",
        "> To utilize BERT embedding, the below library was used: </br>\n",
        "<a href= \"https://pypi.org/project/bert-embedding/\">bert-embedding 1.0.1</a>"
      ]
    },
    {
      "cell_type": "code",
      "metadata": {
        "id": "TBNKsUVYurap"
      },
      "source": [
        "def mean(z): # used for BERT and Word2Vec\n",
        "    return sum(itertools.chain(z))/len(z)"
      ],
      "execution_count": null,
      "outputs": []
    },
    {
      "cell_type": "markdown",
      "metadata": {
        "id": "6gyq1JPv_-PO"
      },
      "source": [
        "# WORD2VEC\n",
        "\n",
        "> In this situation, normal data (removing the stop words would have been used as well) is used.\n",
        "\n",
        "> For the test data, we check that the word already exists in the vocabulary firstly. Otherwise, that word is skipped. Finally, we use mean operator overall word vectors that are also of fixed length and use just a vector to represent the review."
      ]
    },
    {
      "cell_type": "code",
      "metadata": {
        "id": "BeCGDiqNImce"
      },
      "source": [
        "def embeddToWord2Vec(text):\n",
        "    words = word_tokenize(text)\n",
        "    \n",
        "    if embedding is 'WORD2VEC_WITH_STOP':\n",
        "        result = [w2v_with_stop_model.wv[w] for w in words if w in w2v_with_stop_model.wv.vocab]\n",
        "    else:\n",
        "        result = [w2v_no_stop_model.wv[w] for w in words if w in w2v_no_stop_model.wv.vocab]\n",
        "    \n",
        "    feature = [mean(x) for x in zip(*result)]\n",
        "    return feature"
      ],
      "execution_count": null,
      "outputs": []
    },
    {
      "cell_type": "code",
      "metadata": {
        "id": "lackgKzCgsh4"
      },
      "source": [
        "def wordTokenize(text):\n",
        "  return word_tokenize(text)"
      ],
      "execution_count": null,
      "outputs": []
    },
    {
      "cell_type": "markdown",
      "metadata": {
        "id": "25ygqns1jzQw"
      },
      "source": [
        "### Word2Vec\n",
        "\n",
        "> With the Stop Words\n",
        "\n"
      ]
    },
    {
      "cell_type": "code",
      "metadata": {
        "id": "MbU9hwsJjzhM"
      },
      "source": [
        "embedding = 'WORD2VEC_WITH_STOP'"
      ],
      "execution_count": null,
      "outputs": []
    },
    {
      "cell_type": "code",
      "metadata": {
        "id": "WtVIlIsTgS3d"
      },
      "source": [
        "words = train_data['clean_text'].apply(wordTokenize)\n",
        "w2v_with_stop_model = gensim.models.Word2Vec(words, min_count = 2, size = 100, window = 5) "
      ],
      "execution_count": null,
      "outputs": []
    },
    {
      "cell_type": "code",
      "metadata": {
        "id": "ixVHWeBRfuNe"
      },
      "source": [
        "word2vec_with_stop_training_features = train_data['clean_text'].apply(embeddToWord2Vec)\n",
        "word2vec_with_stop_test_features = test_data['clean_text'].apply(embeddToWord2Vec)"
      ],
      "execution_count": null,
      "outputs": []
    },
    {
      "cell_type": "code",
      "metadata": {
        "id": "dzEz_b78Kuon",
        "outputId": "b0e7c87e-65b4-4019-d751-14054162441d",
        "colab": {
          "base_uri": "https://localhost:8080/",
          "height": 35
        }
      },
      "source": [
        "feature = [x for x in word2vec_with_stop_training_features.transpose()]\n",
        "word2vec_with_stop_training_features = np.asarray(feature)\n",
        "\n",
        "feature = [x for x in word2vec_with_stop_test_features.transpose()]\n",
        "word2vec_with_stop_test_features = np.asarray(feature)\n",
        "\n",
        "print(word2vec_with_stop_training_features.shape)"
      ],
      "execution_count": null,
      "outputs": [
        {
          "output_type": "stream",
          "text": [
            "(25000, 100)\n"
          ],
          "name": "stdout"
        }
      ]
    },
    {
      "cell_type": "markdown",
      "metadata": {
        "id": "MVuZfCgZu8NJ"
      },
      "source": [
        "# BERT\n",
        "\n",
        "As mentioned before, BERT embedding has been used twice and their results were reported independently. Once, each training data is tokenized into words, then BERT embedding of each word is computed. Lastly, having mean for all the BERT vectors of the words as a review representation. In a second way, each training data is tokenized into sentences and computed the mean of BERT embedding of the sentences to present each training data."
      ]
    },
    {
      "cell_type": "code",
      "metadata": {
        "id": "gl5lU9f_WfRc"
      },
      "source": [
        "def embeddToBERT(text):\n",
        "    sentences = re.split('!|\\?|\\.',text)\n",
        "    sentences = list(filter(None, sentences)) \n",
        "\n",
        "    if bert_version == 'WORD':\n",
        "        result = bert(sentences, 'avg') # avg is refer to handle OOV\n",
        "    \n",
        "        bert_vocabs_of_sentence = []\n",
        "        for sentence in range(len(result)):\n",
        "            for word in range(len(result[sentence][1])):\n",
        "                bert_vocabs_of_sentence.append(result[sentence][1][word])\n",
        "        feature = [mean(x) for x in zip(*bert_vocabs_of_sentence)]\n",
        "\n",
        "    elif bert_version == 'SENTENCE':\n",
        "        result = bert_transformers.encode(sentences)\n",
        "        feature = [mean(x) for x in zip(*result)]\n",
        "  \n",
        "    return feature"
      ],
      "execution_count": null,
      "outputs": []
    },
    {
      "cell_type": "markdown",
      "metadata": {
        "id": "t74UkTvh5n18"
      },
      "source": [
        "To use the advantage of cloud GPU:"
      ]
    },
    {
      "cell_type": "code",
      "metadata": {
        "id": "zv6j4UmHj4yH"
      },
      "source": [
        "ctx = mx.gpu(0)\n",
        "bert = BertEmbedding(ctx=ctx)"
      ],
      "execution_count": null,
      "outputs": []
    },
    {
      "cell_type": "code",
      "metadata": {
        "id": "_zgeeBX0231r"
      },
      "source": [
        "bert_version = 'WORD'\n",
        "bert_word_training_features = train_data['clean_text_bert'].apply(embeddToBERT)\n",
        "bert_word_test_features = test_data['clean_text_bert'].apply(embeddToBERT)"
      ],
      "execution_count": null,
      "outputs": []
    },
    {
      "cell_type": "code",
      "metadata": {
        "id": "NwBMnzSWmNP_",
        "outputId": "eb9f0878-0dd8-4c39-d25a-9321444a7658",
        "colab": {
          "base_uri": "https://localhost:8080/",
          "height": 35
        }
      },
      "source": [
        "feature = [x for x in bert_word_training_features.transpose()]\n",
        "bert_word_training_features = np.asarray(feature)\n",
        "\n",
        "feature = [x for x in bert_word_test_features.transpose()]\n",
        "bert_word_test_features = np.asarray(feature)\n",
        "\n",
        "print(bert_word_training_features.shape)"
      ],
      "execution_count": null,
      "outputs": [
        {
          "output_type": "stream",
          "text": [
            "(25000, 768)\n"
          ],
          "name": "stdout"
        }
      ]
    },
    {
      "cell_type": "markdown",
      "metadata": {
        "id": "kRVl3eAoWnWX"
      },
      "source": [
        "# The Classifier"
      ]
    },
    {
      "cell_type": "markdown",
      "metadata": {
        "id": "VvVoVtNQXTME"
      },
      "source": [
        "# The Model Training & Evaluation\n",
        "\n",
        "> Accuracy, confusion matrix, precision, recall, and F-score metrics were calculated and printed for each classifier. Also, ROC curve was plotted. To compute false positives and true positives of a class, roc_curve function, which is in the Scikit Learn library, was used. This function gets labels and target scores as the input parameters. The target scores, can either be probability estimates of the positive class, confidence values, or non-thresholded measure of decisions. So, in order to calculate the target score, decision_function was used for the SVM classifier."
      ]
    },
    {
      "cell_type": "code",
      "metadata": {
        "id": "rM4Ljk-tnJrR"
      },
      "source": [
        "# A function to plot and print the result\n",
        "def printResult(y_pred, y_prob):\n",
        "    acc = accuracy_score(test_data[\"sentiment\"], y_pred)\n",
        "    # Result\n",
        "    print(\"Accuracy: {:.2f}\".format(acc*100),end='\\n\\n')\n",
        "    cm = confusion_matrix(test_data[\"sentiment\"],y_pred)\n",
        "    print('Confusion Matrix:\\n', cm)\n",
        "    print(classification_report(test_data[\"sentiment\"],y_pred))\n",
        "\n",
        "    # Plotting\n",
        "    fpr, tpr, thresholds = roc_curve(test_data[\"sentiment\"], y_prob)\n",
        "    roc_auc = auc(fpr, tpr)\n",
        "    print (\"Area under the ROC curve : %f\" % roc_auc)\n",
        "    plt.plot([0, 1], [0, 1], color='navy', linestyle='--')\n",
        "    plt.xlabel('False Positive Rate')\n",
        "    plt.ylabel('True Positive Rate')\n",
        "    plt.title('Receiver operating characteristic')\n",
        "    plt.plot(fpr, tpr, color='red', label='ROC curve (area = %0.2f)' % roc_auc)\n",
        "    plt.legend(loc='lower right')"
      ],
      "execution_count": null,
      "outputs": []
    },
    {
      "cell_type": "markdown",
      "metadata": {
        "id": "fnM2kBORNfrh"
      },
      "source": [
        "# SVM"
      ]
    },
    {
      "cell_type": "code",
      "metadata": {
        "id": "_bj49qyFNlom"
      },
      "source": [
        "model = SVC(kernel ='linear', C = 1)"
      ],
      "execution_count": null,
      "outputs": []
    },
    {
      "cell_type": "markdown",
      "metadata": {
        "id": "xUYiOuCoUD1v"
      },
      "source": [
        "> Word2Vec Version"
      ]
    },
    {
      "cell_type": "code",
      "metadata": {
        "id": "1KKH4l8zOUtx"
      },
      "source": [
        "# Training \n",
        "model.fit(word2vec_with_stop_training_features, train_data[\"sentiment\"])\n",
        "\n",
        "# Evaluation\n",
        "y_pred_w2v_with_stop_svm = model.predict(word2vec_with_stop_test_features)\n",
        "y_prob_w2v_with_stop_svm = model.decision_function(word2vec_with_stop_test_features)"
      ],
      "execution_count": null,
      "outputs": []
    },
    {
      "cell_type": "code",
      "metadata": {
        "id": "RWkS86bhUhMo",
        "outputId": "8bb03d05-ff74-4d66-8c3a-eb8043cacfed",
        "colab": {
          "base_uri": "https://localhost:8080/",
          "height": 561
        }
      },
      "source": [
        "# Result\n",
        "printResult(y_pred_w2v_with_stop_svm, y_prob_w2v_with_stop_svm)"
      ],
      "execution_count": null,
      "outputs": [
        {
          "output_type": "stream",
          "text": [
            "Accuracy: 83.85\n",
            "\n",
            "Confusion Matrix:\n",
            " [[10466  2034]\n",
            " [ 2004 10496]]\n",
            "              precision    recall  f1-score   support\n",
            "\n",
            "          -1       0.84      0.84      0.84     12500\n",
            "           1       0.84      0.84      0.84     12500\n",
            "\n",
            "    accuracy                           0.84     25000\n",
            "   macro avg       0.84      0.84      0.84     25000\n",
            "weighted avg       0.84      0.84      0.84     25000\n",
            "\n",
            "Area under the ROC curve : 0.916006\n"
          ],
          "name": "stdout"
        },
        {
          "output_type": "display_data",
          "data": {
            "image/png": "[encoded data removed]",
            "text/plain": [
              "<Figure size 432x288 with 1 Axes>"
            ]
          },
          "metadata": {
            "tags": []
          }
        }
      ]
    },
    {
      "cell_type": "markdown",
      "metadata": {
        "id": "uHd82pF-YySl"
      },
      "source": [
        "> BERT Version"
      ]
    },
    {
      "cell_type": "code",
      "metadata": {
        "id": "pT_1LeCLOjHO"
      },
      "source": [
        "# Training \n",
        "model.fit(bert_word_training_features, train_data[\"sentiment\"])\n",
        "\n",
        "# Evaluation\n",
        "y_pred_bert_words_svm = model.predict(bert_word_test_features)\n",
        "y_prob_bert_words_svm = model.decision_function(bert_word_test_features)"
      ],
      "execution_count": null,
      "outputs": []
    },
    {
      "cell_type": "code",
      "metadata": {
        "id": "lBn1oleDYr5i",
        "outputId": "4ce7d883-0563-464a-914e-312feaba5af6",
        "colab": {
          "base_uri": "https://localhost:8080/",
          "height": 561
        }
      },
      "source": [
        "# Result\n",
        "printResult(y_pred_bert_words_svm, y_prob_bert_words_svm)"
      ],
      "execution_count": null,
      "outputs": [
        {
          "output_type": "stream",
          "text": [
            "Accuracy: 87.46\n",
            "\n",
            "Confusion Matrix:\n",
            " [[10948  1552]\n",
            " [ 1584 10916]]\n",
            "              precision    recall  f1-score   support\n",
            "\n",
            "          -1       0.87      0.88      0.87     12500\n",
            "           1       0.88      0.87      0.87     12500\n",
            "\n",
            "    accuracy                           0.87     25000\n",
            "   macro avg       0.87      0.87      0.87     25000\n",
            "weighted avg       0.87      0.87      0.87     25000\n",
            "\n",
            "Area under the ROC curve : 0.944653\n"
          ],
          "name": "stdout"
        },
        {
          "output_type": "display_data",
          "data": {
            "image/png": "[encoded data removed]",
            "text/plain": [
              "<Figure size 432x288 with 1 Axes>"
            ]
          },
          "metadata": {
            "tags": []
          }
        }
      ]
    }
  ]
}